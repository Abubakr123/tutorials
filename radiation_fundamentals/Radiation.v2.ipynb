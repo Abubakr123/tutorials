{
 "metadata": {
  "name": "",
  "signature": "sha256:7f0a7185df19481d0ab8d00a7895cbbf09a49373aa7ba74901a348d8e9a79dbb"
 },
 "nbformat": 2,
 "nbformat_minor": 0,
 "worksheets": [
  {
   "cells": [
    {
     "cell_type": "markdown",
     "metadata": {},
     "source": [
      "##Examples of typesetting equations in  ipython notebooks can be found at this site:##\n",
      "http://nbviewer.ipython.org/github/ipython/ipython/blob/2.x/examples/Notebook/Typesetting%20Math%20Using%20MathJax.ipynb\n",
      "\n",
      "eg.\n",
      "##Maxwell's Equations:##\n",
      "\\begin{align} \\nabla \\times \\vec{\\mathbf{B}} -\\, \\frac1c\\, \\frac{\\partial\\vec{\\mathbf{E}}}{\\partial t} & = \\frac{4\\pi}{c}\\vec{\\mathbf{j}} \\\\ \\nabla \\cdot \\vec{\\mathbf{E}} & = 4 \\pi \\rho \\\\ \\nabla \\times \\vec{\\mathbf{E}}\\, +\\, \\frac1c\\, \\frac{\\partial\\vec{\\mathbf{B}}}{\\partial t} & = \\vec{\\mathbf{0}} \\\\ \\nabla \\cdot \\vec{\\mathbf{B}} & = 0 \\end{align}"
     ]
    },
    {
     "cell_type": "markdown",
     "metadata": {},
     "source": [
      "#A quick intro to formating Notebooks#\n",
      "\n",
      "You can make text *italic* or **bold**.\n",
      "You can build nested itemized or enumerated lists:\n",
      "\n",
      "* One\n",
      "    - Sublist\n",
      "        - This\n",
      "  - Sublist\n",
      "        - That\n",
      "        - The other thing\n",
      "* Two\n",
      "  - Sublist\n",
      "* Three\n",
      "  - Sublist\n",
      "\n",
      "Now another list:\n",
      "\n",
      "1. Here we go\n",
      "    1. Sublist\n",
      "    2. Sublist\n",
      "2. There we go\n",
      "3. Now this\n",
      "\n",
      "You can add horizontal rules:\n",
      "\n",
      "---\n",
      "\n",
      "Here is a blockquote of the zen of python:\n",
      "\n",
      "> Beautiful is better than ugly.<br>\n",
      "> Explicit is better than implicit.<br>\n",
      "> Simple is better than complex.<br>\n",
      "> Complex is better than complicated.<br>\n",
      "> Flat is better than nested.<br>\n",
      "> Sparse is better than dense.<br>\n",
      "> Readability counts.<br>\n",
      "> Special cases aren't special enough to break the rules.<br>\n",
      "> Although practicality beats purity.<br>\n",
      "> Errors should never pass silently.<br>\n",
      "> Unless explicitly silenced.<br>\n",
      "> In the face of ambiguity, refuse the temptation to guess.<br>\n",
      "> There should be one-- and preferably only one --obvious way to do it.<br>\n",
      "> Although that way may not be obvious at first unless you're Dutch.<br>\n",
      "> Now is better than never.<br>\n",
      "> Although never is often better than *right* now.<br>\n",
      "> If the implementation is hard to explain, it's a bad idea.<br>\n",
      "> If the implementation is easy to explain, it may be a good idea.<br>\n",
      "> Namespaces are one honking great idea -- let's do more of those!<br>\n",
      "\n",
      "\n",
      "If you want, you can add headings using Markdown's syntax:\n",
      "\n",
      "# Heading 1\n",
      "# Heading 2\n",
      "## Heading 2.1\n",
      "## Heading 2.2\n",
      "\n",
      "You can embed code meant for illustration instead of execution in Python:\n",
      "\n",
      "    def f(x):\n",
      "        \"\"\"a docstring\"\"\"\n",
      "        return x**2\n",
      "\n",
      "or other languages:\n",
      "\n",
      "    if (i=0; i<n; i++) {\n",
      "      printf(\"hello %d\\n\", i);\n",
      "      x += 4;\n",
      "    }\n",
      "\n",
      "\n",
      "Because Markdown is a superset of HTML you can even add things like HTML tables:\n",
      "\n",
      "<table>\n",
      "<tr>\n",
      "<th>Header 1</th>\n",
      "<th>Header 2</th>\n",
      "</tr>\n",
      "<tr>\n",
      "<td>row 1, cell 1</td>\n",
      "<td>row 1, cell 2</td>\n",
      "</tr>\n",
      "<tr>\n",
      "<td>row 2, cell 1</td>\n",
      "<td>row 2, cell 2</td>\n",
      "</tr>\n",
      "</table>"
     ]
    },
    {
     "cell_type": "markdown",
     "metadata": {},
     "source": [
      "#Radiation#"
     ]
    },
    {
     "cell_type": "code",
     "collapsed": false,
     "input": [
      "%matplotlib inline\n",
      "# import Relevent functions  \n",
      "import numpy as np  # numerical python functions and data structures\n",
      "#from IPython.html.widgets import interact, interactive, fixed\n",
      "#from IPython.html import widgets\n",
      "#from IPython.display import clear_output, display, HTML\n",
      "from IPython.core.display import Image "
     ],
     "language": "python",
     "metadata": {},
     "outputs": [],
     "prompt_number": 1
    },
    {
     "cell_type": "markdown",
     "metadata": {},
     "source": [
      "The brightness and flux density of a star at a set distance\n",
      "\n",
      "We distinguish between the brightness of the Sun, which does not depend on distance, and the apparent flux, which does.\n",
      "\n",
      "The quantitative definition of specific intensity or spectral brightness is\n",
      "\n",
      "$ I_{\\nu} \\equiv \\frac{dP}{\\cos{\\theta}d\\sigma d\\Omega}$\n",
      "\n",
      "\n",
      "$d\\sigma$ = infinitesimal surface area (e.g., of a detector)\n",
      "\n",
      "$\\theta$ = the angle between a \"ray\" of radiation and the normal to the surface $d\\sigma$ \n",
      "\n",
      "$d\\Omega$ = infinitesimal solid angle measured at the observer's location\n",
      "\n",
      "\n"
     ]
    },
    {
     "cell_type": "code",
     "collapsed": false,
     "input": [
      "Image(url=\"http://www.cv.nrao.edu/course/astr534/images/brtdef.svg\")"
     ],
     "language": "python",
     "metadata": {},
     "outputs": [
      {
       "html": [
        "<img src=\"http://www.cv.nrao.edu/course/astr534/images/brtdef.svg\"/>"
       ],
       "metadata": {},
       "output_type": "pyout",
       "prompt_number": 3,
       "text": [
        "<IPython.core.display.Image at 0x102125d50>"
       ]
      }
     ],
     "prompt_number": 3
    },
    {
     "cell_type": "markdown",
     "metadata": {},
     "source": [
      "If energy $dE_{\\nu}$ flows through $d\\sigma$ in time $dt$ in the frequency range to $\\nu$ to   $\\nu +d\\nu$ within the solid angle $d\\Omega$ on a ray which points an angle $\\theta$ away from the surface normal, then the flow of energy is \n",
      "\n",
      "$dE_{\\nu}=I_{\\nu}cos(\\theta) d\\sigma d\\Omega dt d\\nu $\n",
      "\n",
      "The power $dP$ received in the solid angle $d\\Omega$ and in the frequency range to $\\nu$ to   $\\nu +d\\nu$ is \n",
      "\n",
      "$dP_{\\nu}=I_{\\nu}cos(\\theta) d\\sigma d\\Omega d\\nu  $\n",
      "\n",
      "Note : $dP_{\\nu} = \\frac{dE_{\\nu}}{dt}$\n",
      "\n",
      "$\\therefore$   $I_{\\nu} \\equiv \\frac{dP_{\\nu}}{cos(\\theta) d\\sigma d\\Omega d\\nu }$"
     ]
    },
    {
     "cell_type": "markdown",
     "metadata": {},
     "source": [
      "##Theorem: Specific intensity is conserved (is constant) along any ray in empty space.##\n",
      "\n",
      "This follows directly from geometry.  Consider two surfaces, d1 and d2 along a ray of length r.\n"
     ]
    },
    {
     "cell_type": "code",
     "collapsed": false,
     "input": [
      "Image(url='http://www.cv.nrao.edu/course/astr534/images/brtcon.svg')"
     ],
     "language": "python",
     "metadata": {},
     "outputs": [
      {
       "html": [
        "<img src=\"http://www.cv.nrao.edu/course/astr534/images/brtcon.svg\"/>"
       ],
       "metadata": {},
       "output_type": "pyout",
       "prompt_number": 4,
       "text": [
        "<IPython.core.display.Image at 0x1036c07d0>"
       ]
      }
     ],
     "prompt_number": 4
    },
    {
     "cell_type": "markdown",
     "metadata": {},
     "source": [
      "\n",
      "Let $d\\Omega_1$ be the solid angle subtended by  $d\\sigma_2$ as seen from the center of the surface $d\\sigma_1$.<br>\n",
      "Let $d\\Omega_1$  be the solid angle subtended by  $d\\sigma_1$ as seen from the center of the surface $d\\sigma_2$.<br>\n",
      "Then<br>\n",
      "$d\\Omega_1= \\frac{cos\\theta_2 d\\sigma_2 }{r^2}$\n",
      "\n",
      "$d\\Omega_2= \\frac{cos\\theta_1 d\\sigma_1 }{r^2}$\n",
      "\n",
      "\n",
      "The energy $dW_1$ flowing through the area $d\\sigma_1$  in solid angle  $d\\Omega_1$ is<br>\n",
      "$dW_1=(I_{\\nu})_1 cos\\theta_1 d\\Omega_1 d\\sigma_1 d\\nu$\n",
      "\n",
      "$dW_1=(I_{\\nu})_1 cos\\theta_1  \\frac{cos\\theta_2 d\\sigma_2 }{r^2} d\\sigma_1 d\\nu$\n",
      "\n",
      "Likewise<br>\n",
      "$dW_2=(I_{\\nu})_2 cos\\theta_2  \\frac{cos\\theta_1 d\\sigma_1 }{r^2} d\\sigma_2 d\\nu$\n",
      "\n",
      "Since the radiation energy is conserved in free space (where there is no absorption or emission), $dW_1=dW_2$, so<br>\n",
      "$(I)_1=(I)_2$\n",
      "\n",
      "\n",
      "This conservation theorem has two important consequences:\n",
      "\n",
      "(1) Brightness is independent of distance.  Thus the camera setting for a good exposure of the Sun would be the same, regardless of whether the photograph was taken close to the Sun (from near Venus, for example) or far away from the Sun (from near Mars, for example), so long as the Sun is resolved in the photograph. \n",
      "\n",
      "(2) Brightness is the same at the source and at the detector. Thus you can think of brightness in terms of energy flowing out of the source or as energy flowing into the detector.\n"
     ]
    },
    {
     "cell_type": "markdown",
     "metadata": {},
     "source": [
      "The Total intensity is : $I \\equiv \\int_{0}^{\\infty} I_{\\nu}d\\nu$  is also conserved.\n",
      "\n",
      "For sources that have a well-defined solid angle (not unresolved) \n",
      "\n",
      "$\\frac {dP}{d\\sigma d\\nu} = I_{\\nu} cos \\theta d\\Omega$\n",
      "\n",
      "Integrating of the sources extent gives us the flux density $S_{\\nu}$ :\n",
      "\n",
      "$S_{\\nu} \\equiv \\int_{source} I_{\\nu}(\\theta,\\phi) cos \\theta d\\Omega \\approx \\int_{source} I_{\\nu}(\\theta,\\phi) d\\Omega  $\n",
      "\n",
      "for small angular sizes."
     ]
    },
    {
     "cell_type": "markdown",
     "metadata": {},
     "source": [
      "###Example:###\n",
      "\n",
      "What is the specific intensity of the Sun at $\\nu=10$GHz (measured at the Earth) if the Sun is a nearly ideal blackbody with temperature $T\\approx 5800$K?\n",
      "\n",
      "Since 10GHz is below the turnover point in the black body spectrum we can use the Rayleigh-Jeans approximation.\n",
      "\n",
      "$I_{\\nu} = B_{\\nu} \\approx \\frac {2kT\\nu^2}{c^2}$ \n",
      "\n",
      "for the spectral brightness of a blackbody."
     ]
    },
    {
     "cell_type": "code",
     "collapsed": false,
     "input": [
      "k = 1.380e-23   #J/K\n",
      "T = 5800.       #K\n",
      "nu = 10.0**10   #Hz\n",
      "c = 299792458   #m/s\n",
      "I = (2. * k * T * nu**2)/(c**2)\n",
      "#I = (2. * 1.380e-23 * 5800.* (10.0**10 )**2)/(299792458)**2\n",
      "print \"I = %e\"%(I)"
     ],
     "language": "python",
     "metadata": {},
     "outputs": [
      {
       "output_type": "stream",
       "stream": "stdout",
       "text": [
        "I = 1.781130e-16\n"
       ]
      }
     ],
     "prompt_number": 9
    },
    {
     "cell_type": "markdown",
     "metadata": {},
     "source": [
      "What is the flux density of the Sun at $\\nu=10$GHz, measured at the Earth?<br>\n",
      "The Sun has a radius $R_{\\odot}=7.0* 10^{8} $m, and its distance from the Earth 1 astronomical unit (AU)  is $r_{\\odot}= 1.49598*10^{11}$ m.\n",
      "\n",
      "The angular radius of the Sun viewed from the Earth is $\\theta_{\\odot} = sin^{-1}\\left( \\frac{R_{\\odot}}{r_{\\odot}} \\right)$"
     ]
    },
    {
     "cell_type": "code",
     "collapsed": false,
     "input": [
      "rdot = 1.49598e11\n",
      "Rdot = 7.0e8\n",
      "theta = np.arcsin(Rdot/rdot)\n",
      "print \"%e rad or %f degrees \"%(theta,np.degrees(theta))"
     ],
     "language": "python",
     "metadata": {},
     "outputs": [
      {
       "output_type": "stream",
       "stream": "stdout",
       "text": [
        "4.679224e-03 or 0.268100 degrees \n"
       ]
      }
     ],
     "prompt_number": 6
    },
    {
     "cell_type": "markdown",
     "metadata": {},
     "source": [
      "The flux density of the sun is <br>\n",
      "$S_{\\nu} \\equiv \\int_{source} I_{\\nu}(\\theta,\\phi) cos \\theta d\\Omega$ with $d\\Omega = sin\\theta d\\theta d\\phi$"
     ]
    },
    {
     "cell_type": "code",
     "collapsed": false,
     "input": [
      "from scipy import integrate\n",
      "\n",
      "def f(t, p):\n",
      "    return I*np.cos(t)*np.sin(t)\n",
      "\n",
      "S,S_error = integrate.nquad(f, [[0, theta],[0, 2*np.pi]])\n",
      "print \" %e (W/(m^2 Hz)  or %e Jy\"%(S,S/10**(-26))\n"
     ],
     "language": "python",
     "metadata": {},
     "outputs": [
      {
       "output_type": "stream",
       "stream": "stdout",
       "text": [
        " 1.225152e-20 (W/(m^2 Hz)  or 1.225152e+06 Jy\n"
       ]
      }
     ],
     "prompt_number": 7
    },
    {
     "cell_type": "markdown",
     "metadata": {},
     "source": [
      "The spectral luminosity of the Sun is  $L_{\\nu} = 4\\pi r_{\\odot}^{2} S_{\\nu} $"
     ]
    },
    {
     "cell_type": "code",
     "collapsed": false,
     "input": [
      "L = 4.*np.pi*rdot*S\n",
      "print \"L = %e\"%(L)"
     ],
     "language": "python",
     "metadata": {},
     "outputs": [
      {
       "output_type": "stream",
       "stream": "stdout",
       "text": [
        "L = 2.303168e-08\n"
       ]
      }
     ],
     "prompt_number": 8
    }
   ],
   "metadata": {}
  }
 ]
}