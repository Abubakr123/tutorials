{
 "metadata": {
  "name": "",
  "signature": "sha256:c492501b5fccbc1bc1e6ab99d26d3c9936351d4b84a30590c6ebdb61d9993f9e"
 },
 "nbformat": 2,
 "nbformat_minor": 0,
 "worksheets": [
  {
   "cells": [
    {
     "cell_type": "markdown",
     "metadata": {},
     "source": [
      "#Radiation Transfer#"
     ]
    },
    {
     "cell_type": "code",
     "collapsed": false,
     "input": [
      "%matplotlib inline\n",
      "import matplotlib.pylab as plt\n",
      "import numpy as np\n",
      "from IPython.html.widgets import interact, interactive, fixed\n",
      "from IPython.html import widgets\n",
      "from IPython.display import clear_output, display, HTML\n",
      "from IPython.core.display import Image \n",
      "def euler( f, x0, t ):\n",
      "    \"\"\"Euler's method to solve x' = f(x,t) with x(t[0]) = x0.\n",
      "    USAGE:\n",
      "        x = euler(f, x0, t)\n",
      "    INPUT:\n",
      "        f     - function of x and t equal to dx/dt.  x may be multivalued,\n",
      "                in which case it should a list or a NumPy array.  In this\n",
      "                case f must return a NumPy array with the same dimension\n",
      "                as x.\n",
      "        x0    - the initial condition(s).  Specifies the value of x when\n",
      "                t = t[0].  Can be either a scalar or a list or NumPy array\n",
      "                if a system of equations is being solved.\n",
      "        t     - list or NumPy array of t values to compute solution at.\n",
      "                t[0] is the the initial condition point, and the difference\n",
      "                h=t[i+1]-t[i] determines the step size h.\n",
      "    OUTPUT:\n",
      "        x     - NumPy array containing solution values corresponding to each\n",
      "                entry in t array.  If a system is being solved, x will be\n",
      "                an array of arrays.\n",
      "    \"\"\"\n",
      "    n = len( t )\n",
      "    x = np.array( [x0] * n )\n",
      "    for i in xrange( n - 1 ):\n",
      "        x[i+1] = x[i] + ( t[i+1] - t[i] ) * f( x[i], t[i] )\n",
      "    return x"
     ],
     "language": "python",
     "metadata": {},
     "outputs": [],
     "prompt_number": 9
    },
    {
     "cell_type": "markdown",
     "metadata": {},
     "source": [
      "For free space the specific intencity of radiation is conserved $\\frac{dI_{\\nu}}{ds} = 0 $ \n"
     ]
    },
    {
     "cell_type": "code",
     "collapsed": false,
     "input": [
      "Image(url=\"http://www.cv.nrao.edu/course/astr534/images/absorb.svg\")"
     ],
     "language": "python",
     "metadata": {},
     "outputs": [
      {
       "html": [
        "<img src=\"http://www.cv.nrao.edu/course/astr534/images/absorb.svg\"/>"
       ],
       "metadata": {},
       "output_type": "pyout",
       "prompt_number": 2,
       "text": [
        "<IPython.core.display.Image at 0x10655bf10>"
       ]
      }
     ],
     "prompt_number": 2
    },
    {
     "cell_type": "markdown",
     "metadata": {},
     "source": [
      "If you  consider a ray as a beam of photons, some of which may be absorbed by the medium and vanish. The probability $dp_{\\nu}$ of a photon with frequency $\\nu$ being absorbed in a thin slab of thickness $ds$ is directly proportional to ds: $dp_{\\nu}=\\kappa_{\\nu}ds$.  This frequency-dependent constant of proportionality is the linear absorption coefficient, $\\kappa_{\\nu} $ is defined $\\kappa_{\\nu} \\equiv \\frac{dp_{\\nu}}{ds}$\n",
      "\n",
      "The rate of absorbtion with distance into the medium is $\\frac{dI_{\\nu}}{I_{\\nu}} =  -dp_{\\nu} =-\\kappa_{\\nu}ds  $\n",
      "\n",
      "Integrating both sides of this equation along the absorbing path gives the output specific intensity as a fraction of the input specific intensity:\n",
      "\n",
      " $\\int^{s_{out}}_{s_{in}}  \\frac{dI_{\\nu}}{I_{\\nu}} =\\int^{s_{out}}_{s_{in}} -\\kappa_{\\nu}(s')ds'  = \\ln(I_{\\nu})\\bracevert^{S_{out}}_{S_{in}} $\n",
      "\n",
      "$\\ln(I_{\\nu}(s_{out})) - \\ln(I_{\\nu}(s_{out})) = \\int^{s_{out}}_{s_{in}} -\\kappa_{\\nu}(s')ds'  $\n",
      "\n",
      "$I_{\\nu}(s_{out}) =  I_{\\nu}(s_{out}) \\ exp \\int^{s_{out}}_{s_{in}} -\\kappa_{\\nu}(s')ds' $\n",
      "\n",
      "The optical depth or opacity of the absorber is defined to be\n",
      "\n",
      "$\\tau \\equiv \\int^{s_{in}}_{s_{out}} -\\kappa_{\\nu}(s')ds'$\n",
      "\n",
      "Note that $d\\tau=\u2212\\kappa ds$.\n",
      "*  $\\tau \\gg 1$ for opticaly thick\n",
      "*  $\\tau \\ll 1$ for opticaly thin\n",
      "\n",
      "Then we get \n",
      "\n",
      "$I_{\\nu}(s_{out}) =  I_{\\nu}(s_{out}) \\ exp(-\\tau_{\\nu}) $\n"
     ]
    },
    {
     "cell_type": "code",
     "collapsed": false,
     "input": [
      "S_in = 0.0   \n",
      "S_out = 100.0\n",
      "I = 1.0  # Specific intensity of the source\n",
      "kappa = 1./30. # Linear absorbtion coefficient\n",
      "e = 0.0 #1   # Emission coeffieient\n",
      "s = np.arange(S_in,S_out,0.01) # Values for plotting"
     ],
     "language": "python",
     "metadata": {},
     "outputs": [],
     "prompt_number": 3
    },
    {
     "cell_type": "code",
     "collapsed": false,
     "input": [
      "def absorbtion(kappa,epsilon=0):\n",
      "    def dIds(i,s):\n",
      "        return (-kappa*i + epsilon)\n",
      "\n",
      "    a = plt.plot(s,euler(dIds,I,s))\n",
      "    plt.ylabel(r\"$I_{\\nu}(s)$\")\n",
      "    plt.xlabel(r\"distance from source\")\n",
      "    a = plt.ylim(0,plt.ylim()[1]*1.2)\n",
      "\n",
      "absorbtion(kappa)    "
     ],
     "language": "python",
     "metadata": {},
     "outputs": [
      {
       "metadata": {},
       "output_type": "display_data",
       "png": "[encoded data removed]",
       "text": [
        "<matplotlib.figure.Figure at 0x107c71a90>"
       ]
      }
     ],
     "prompt_number": 12
    },
    {
     "cell_type": "code",
     "collapsed": false,
     "input": [
      "def tau(S_in,S_out,kappa):\n",
      "    sp = np.arange(S_in,S_out,0.1 )\n",
      "    sp = sp[::-1] # reverse the array\n",
      "    return np.trapz(-kappa*np.ones_like(sp),sp)\n",
      "\n",
      "def optical_depth(kappa):\n",
      "    tau_func = np.zeros_like(s)\n",
      "    for i,s_out in enumerate(s):\n",
      "        tau_func[i] = tau(S_in,s_out,kappa)\n",
      "    a = plt.plot(s,tau_func)\n",
      "    plt.ylabel(r\"$\\tau_{\\nu}(s)$\")\n",
      "    plt.xlabel(r\"distance from source\")\n",
      "    a = plt.ylim(None,plt.ylim()[1]*1.2)\n",
      "\n",
      "optical_depth(kappa)"
     ],
     "language": "python",
     "metadata": {},
     "outputs": [
      {
       "metadata": {},
       "output_type": "display_data",
       "png": "[encoded data removed]",
       "text": [
        "<matplotlib.figure.Figure at 0x107c320d0>"
       ]
      }
     ],
     "prompt_number": 14
    },
    {
     "cell_type": "code",
     "collapsed": false,
     "input": [
      "def interactionfunc(kappa):\n",
      "    plt.figure()\n",
      "    absorbtion(kappa)\n",
      "    plt.figure()\n",
      "    optical_depth(kappa)\n",
      "\n",
      "i = interact(interactionfunc,\n",
      "         kappa=widgets.FloatSliderWidget(min=0.0, max=0.1, step=0.001, \n",
      "                                         value=0.033),)"
     ],
     "language": "python",
     "metadata": {},
     "outputs": [
      {
       "metadata": {},
       "output_type": "display_data",
       "png": "[encoded data removed]",
       "text": [
        "<matplotlib.figure.Figure at 0x107e9ffd0>"
       ]
      },
      {
       "metadata": {},
       "output_type": "display_data",
       "png": "[encoded data removed]",
       "text": [
        "<matplotlib.figure.Figure at 0x107dff510>"
       ]
      }
     ],
     "prompt_number": 17
    },
    {
     "cell_type": "markdown",
     "metadata": {},
     "source": [
      "\n",
      "\n",
      "##Emission##\n",
      "\n",
      "The intervening medium may also generate, or emit, photons, again by some unspecified microscopic process. In any small volume ($dsd\\sigma$) of space, the probability per unit time that a photon having frequency $\\nu$ will be emitted into the solid angle $d\\Omega$ is directly proportional to that volume and solid angle: $P_{em} \\propto  dsd\\sigma d\\Omega$\n",
      "\n",
      "The emission coefficient $\\epsilon_{nu} $ is defined as\n",
      "\n",
      "$\\epsilon_{nu} \\equiv \\frac {dI_{\\nu}}{ds} $ \n",
      "\n",
      "The full equation of radiative transfer , (for both Emission and absorbtion) is given below\n",
      "\n",
      "$\\frac{dI_{\\nu}}{ds} = -\\kappa_{\\nu}I_{\\nu} + \\epsilon_{\\nu} $\n",
      "\n"
     ]
    },
    {
     "cell_type": "code",
     "collapsed": false,
     "input": [
      "S_in = 0.0   \n",
      "S_out = 100.0\n",
      "I = 1.0  # Specific intensity of the source\n",
      "kappa = 0.1 # Linear absorbtion coefficient\n",
      "epsilon = 0.2 #1   # Emission coeffieient\n",
      "s = np.arange(S_in,S_out,0.01) # Values for plotting"
     ],
     "language": "python",
     "metadata": {},
     "outputs": [],
     "prompt_number": 21
    },
    {
     "cell_type": "code",
     "collapsed": false,
     "input": [
      "def transfer(kappa,epsilon):\n",
      "    def dIds(i,s):\n",
      "        return (-kappa*i + epsilon)\n",
      "\n",
      "    a = plt.plot(s,euler(dIds,I,s))\n",
      "    plt.ylabel(r\"$I_{\\nu}(s)$\")\n",
      "    plt.xlabel(r\"distance from source\")\n",
      "    a = plt.ylim(0,plt.ylim()[1]*1.2)\n",
      "\n",
      "transfer(kappa,epsilon)    "
     ],
     "language": "python",
     "metadata": {},
     "outputs": [
      {
       "metadata": {},
       "output_type": "display_data",
       "png": "[encoded data removed]",
       "text": [
        "<matplotlib.figure.Figure at 0x106e6f750>"
       ]
      }
     ],
     "prompt_number": 22
    },
    {
     "cell_type": "markdown",
     "metadata": {},
     "source": [
      "\n",
      "#Temperature#\n",
      "\n",
      "In (full) thermodynamic equilibrium (TE) ,$\\frac{dI_{\\nu}}{ds} = 0$,at temperature T, (and has a black body spectrum $i_{\\nu} = B_{\\nu}$)<br>\n",
      "\n",
      "$\\frac{dI_{\\nu}}{ds} = 0 =  -\\kappa_{\\nu}I_{\\nu} + \\epsilon_{\\nu}=  -\\kappa_{\\nu}B_{\\nu} + \\epsilon_{\\nu}  $\n",
      "\n",
      "Yields Kirchoff's law\n",
      "\n",
      "$\\frac{\\kappa_{\\nu}} {\\epsilon_{\\nu} } = B_{\\nu}(T)$\n",
      "\n",
      "This Law holds in any matairial that is in equilibrium (Has a well-defined temperature), even if it is not in equilibrium with \n",
      "the radiation field.\n",
      "\n",
      "\n",
      "The Rayleigh-Jeans approximation ,\n",
      "\n",
      "$I_{\\nu} = B_{\\nu} \\approx \\frac {2kT_b\\nu^2}{c^2}$ \n",
      "\n",
      "for the spectral brightness of a blackbody for low (Radio) frequencies.\n",
      "\n",
      "Radio astronomers often find it convenient to specify the spectral brightness $I_{\\nu}$, even if $I_{\\nu} \\ne B_{\\nu}$, in terms of the equivalent blackbody brightness temperature $T_b$ defined by \n",
      "\n",
      "$T_b(\\nu) \\equiv \\frac { I_{\\nu} c^2} {2 k \\nu^2}$ .\n",
      "\n",
      "This is used for any $I_{\\nu}$  blackbody or other. So in many cases the temperature calculated, would not be a real physical temperature. \n",
      "\n"
     ]
    },
    {
     "cell_type": "code",
     "collapsed": false,
     "input": [
      "S_in = 0.0   \n",
      "S_out = 100.0\n",
      "I = 1.0  # Specific intensity of the source\n",
      "kappa = 0.003 # Linear absorbtion coefficient\n",
      "epsilon = 1 #1   # Emission coeffieient\n",
      "s = np.arange(S_in,S_out,0.01) # Values for plotting\n",
      "def brightnesstemp(I,nu = 10.0**10  ): \n",
      "    k = 1.380e-23   #J/K\n",
      "    #nu = 10.0**10   #Hz\n",
      "    c = 299792458   #m/s\n",
      "    T = I*c**2 / (2*k*nu**2)\n",
      "    return T\n",
      "\n",
      "\n",
      "def transfer(kappa,epsilon):\n",
      "    def dIds(i,s):\n",
      "        return (-kappa*i + epsilon)\n",
      "\n",
      "    a = plt.plot(s,euler(dIds,I,s))\n",
      "    plt.title(r\"Temperature  T = %e\"%(brightnesstemp(kappa/epsilon,nu = 10.0**10  )))\n",
      "    plt.ylabel(r\"$I_{\\nu}(s)$\")\n",
      "    plt.xlabel(r\"distance from source\")\n",
      "    a = plt.ylim(0,plt.ylim()[1]*1.2)\n",
      "\n",
      "transfer(kappa,epsilon)    "
     ],
     "language": "python",
     "metadata": {},
     "outputs": [
      {
       "metadata": {},
       "output_type": "display_data",
       "png": "[encoded data removed]",
       "text": [
        "<matplotlib.figure.Figure at 0x107c017d0>"
       ]
      }
     ],
     "prompt_number": 24
    },
    {
     "cell_type": "markdown",
     "metadata": {},
     "source": [
      "##Emission and absorption of radio waves in the Earth's atmosphere##\n",
      "\n",
      "At high ($\\nu >$10 GHz) radio frequencies, absorption by the Earth's atmosphere can be large enough to affect the accuracy of flux-density measurements.  Radio astronomers often determine the amount of atmospheric absorption by measuring the change in atmospheric emission at different angles from the zenith (the zenith is the direction straight up) and using Kirchoff's law.  They use Kirchoff's law to calculate the zenith opacity of the (roughly isothermal) atmosphere at frequency $\\nu$ from its kinetic (thermometer) temperature $T_A$ and its radio brightness.  (The celestial sky above the atmosphere is relatively cold, so the \"background'' emission above the atmosphere can usually be ignored.)\n"
     ]
    },
    {
     "cell_type": "code",
     "collapsed": false,
     "input": [
      "Image(url=\"http://www.cv.nrao.edu/course/astr534/images/atmtilt.svg\")"
     ],
     "language": "python",
     "metadata": {},
     "outputs": []
    },
    {
     "cell_type": "markdown",
     "metadata": {},
     "source": [
      "Most atmospheric emission and absorption occurs in a layer whose height h is only a few km, much smaller than the radius of the Earth, so the plane-parallel approximation for the spherical Earth shown here is accurate.   \n",
      "\n",
      "Procedure: Tip the radio telescope, measure I as a function of the zenith angle z, the angle between the zenith (vertical) and the incoming ray. Practical complications include:\n",
      "\n",
      "*    The atmospheric signal is noise indistinguishable from other noise sources, such as noise generated in the receiver. The output voltage of the radio receiver is usually proportional to the sum of the input noise powers.  The  amount of receiver noise power may not be well known, so only the change in I with zenith angle z can be measured, not the absolute value of I at any zenith angle.\n",
      "\n",
      "*    The power gain of the receiver system is difficult to calculate from first principles, so most measurements are made relative to some calibration source. For example, the receiver might be calibrated by having the feed look alternately at two absorbing plates with different known temperatures. The KAT-7 injects a signal with a know noise to provide this calibration. \n"
     ]
    },
    {
     "cell_type": "markdown",
     "metadata": {},
     "source": [
      "The radiative transfer equation \n",
      "\n",
      "$\\frac{dI_{\\nu}}{ds} = -\\kappa_{\\nu}I_{\\nu} + \\epsilon_{\\nu} $\n",
      "\n",
      "Because the atmosphere is in LTE, we can eliminate the unknown $\\epsilon_{\\nu}$ with Kirchoff's law\n",
      "\n",
      "$\\frac{\\kappa_{\\nu}} {\\epsilon_{\\nu} } = B_{\\nu}(T)$\n",
      "\n",
      "$ \\epsilon_{\\nu}  = B_{\\nu}(T_A) \\kappa_{\\nu}$\n",
      "\n",
      "With the optical depth defined as\n",
      "\n",
      "$\\tau \\equiv \\int^{s_{in}}_{s_{out}} -\\kappa_{\\nu}(s')ds'$\n",
      "\n",
      "gives us\n",
      "\n",
      "$\\frac{1}{\\kappa_{\\nu}} \\frac{dI_{\\nu}}{ds}=\\frac{-dI_{\\nu}}{d\\tau} = -I_{\\nu} + B_{\\nu}(T_A) $\n",
      "\n",
      "The path length through the atmophere is given by sec $z$ and the optical depth will be proportional to it.\n",
      "\n",
      "\n",
      "\n"
     ]
    },
    {
     "cell_type": "code",
     "collapsed": false,
     "input": [
      "T = 300 #k\n",
      "def Blackbody(Te): \n",
      "    k = 1.380e-23   #J/K\n",
      "    nu = 10.0**10   #Hz\n",
      "    c = 299792458   #m/s\n",
      "    I = (2. * k * Te * nu**2)/(c**2)\n",
      "    #I = (2. * 1.380e-23 * 5800.* (10.0**10 )**2)/(299792458)**2\n",
      "    return I\n",
      "\n"
     ],
     "language": "python",
     "metadata": {},
     "outputs": []
    },
    {
     "cell_type": "code",
     "collapsed": false,
     "input": [
      "angle = np.arange(0.,np.radians(90.),0.001)\n",
      "s = 1./np.cos(angle)"
     ],
     "language": "python",
     "metadata": {},
     "outputs": []
    },
    {
     "cell_type": "code",
     "collapsed": false,
     "input": [],
     "language": "python",
     "metadata": {},
     "outputs": []
    },
    {
     "cell_type": "code",
     "collapsed": false,
     "input": [
      "np.radians(90.)"
     ],
     "language": "python",
     "metadata": {},
     "outputs": []
    },
    {
     "cell_type": "code",
     "collapsed": false,
     "input": [
      "angle.shape"
     ],
     "language": "python",
     "metadata": {},
     "outputs": []
    },
    {
     "cell_type": "code",
     "collapsed": false,
     "input": [],
     "language": "python",
     "metadata": {},
     "outputs": []
    }
   ],
   "metadata": {}
  }
 ]
}