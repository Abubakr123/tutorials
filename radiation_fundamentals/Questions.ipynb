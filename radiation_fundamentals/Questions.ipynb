{
 "metadata": {
  "name": "",
  "signature": "sha256:f3935826343c93644fc716434ea6a20ca055355b059195df911d56e4c6bd728e"
 },
 "nbformat": 3,
 "nbformat_minor": 0,
 "worksheets": [
  {
   "cells": [
    {
     "cell_type": "markdown",
     "metadata": {},
     "source": [
      "##Questions ##\n",
      "This will be updated as they are added"
     ]
    },
    {
     "cell_type": "markdown",
     "metadata": {},
     "source": [
      "1. There is a proposal to orbit a radar satellite that transmits at 94 GHz downward while moving in a polar orbit at an altitude of 500 km .  If the power is transmited over a hemisphere with a peak power of 1500W that is distrobuted uniformly over a bandwidth of 1 GHz .\n",
      "    1. What is the peak flux density of this satellite when it is overhead (assuming no adsorbtion from the earths atmosphere)\n",
      "    1. The satellite is transmitting 3% of the time (dutycycle) what is the average power radiated and the flux density \n",
      "\n",
      "2. The intensity of the Sun peaks in the optical range at a frequency of about $3.4 \\times 10^{14}$ Hz. \n",
      "    1. What is the tempreture of the Sun ? Use http://en.wikipedia.org/wiki/Wien%27s_displacement_law . \n",
      "    1. If all the power is emitted between  $3 \\times 10^{14}$ Hz and  $4 \\times 10^{14}$ Hz.  how many photons per $m^2$ arrive on Earth when the Sun is overhead.  \n",
      "    1. What is the power received on Earth per $m^2$? \n",
      "    1. For solar power a value of 135 mW per $cm^2$ is obtained how does this compare to your answer? \n",
      "\n",
      "3. \n",
      "    1. If Jupiter has $T_B$ = 150K with a angular size of $\\theta = 40\"$ what is $S_\\nu$ at 1.4 GHz and at 115 GHz?\n",
      "    1. If a HII region has a $T_B$ = 330K with a angular size of $\\theta = 2.5'$ what is $S_\\nu$ at 4.8 GHz and at 23 GHz?\n",
      "    1. The Moon has a $T_B \\approx 200K$ what is $S_\\nu$ at 1.4 GHz and at 115 GHz?\n"
     ]
    },
    {
     "cell_type": "markdown",
     "metadata": {},
     "source": []
    },
    {
     "cell_type": "markdown",
     "metadata": {},
     "source": []
    },
    {
     "cell_type": "code",
     "collapsed": false,
     "input": [],
     "language": "python",
     "metadata": {},
     "outputs": [],
     "prompt_number": ""
    }
   ],
   "metadata": {}
  }
 ]
}