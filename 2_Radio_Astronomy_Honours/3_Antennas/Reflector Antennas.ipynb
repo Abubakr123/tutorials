{
 "metadata": {
  "name": "",
  "signature": "sha256:73d305a5aef66ef86aac813f1aca29aa6390efaa265e69db41e57be1e075af8a"
 },
 "nbformat": 3,
 "nbformat_minor": 0,
 "worksheets": [
  {
   "cells": [
    {
     "cell_type": "markdown",
     "metadata": {},
     "source": [
      "Notes orginally from http://www.cv.nrao.edu/course/astr534/ReflectorAntennas.html. This work is licensed under a Creative Commons Attribution-Noncommercial-Share Alike 3.0 License. (http://creativecommons.org/licenses/by-nc-sa/3.0/) "
     ]
    },
    {
     "cell_type": "markdown",
     "metadata": {},
     "source": [
      "Table of Contents\n",
      "\n",
      "* [Reflector Antennas](#Reflector-Antennas)\n",
      " * [Paraboloidal Reflectors](#Paraboloidal-Reflectors)\n",
      " * [The Far-field Distance](#The-Far-field-Distance)\n",
      " * [Patterns of Aperture Antennas](#Patterns-of-Aperture-Antennas)"
     ]
    },
    {
     "cell_type": "heading",
     "level": 1,
     "metadata": {},
     "source": [
      "Reflector Antennas"
     ]
    },
    {
     "cell_type": "heading",
     "level": 2,
     "metadata": {},
     "source": [
      " Paraboloidal Reflectors "
     ]
    },
    {
     "cell_type": "markdown",
     "metadata": {},
     "source": [
      "Antennas useful for radio astronomy at short wavelengths must have collecting areas much larger than the collecting area $\\lambda^2 / (4 \\pi)$ of an isotropic antenna and much higher angular resolution than a short dipole provides. Since arrays of dipoles are impractical at wavelengths $\\lambda < 1$ m or so, most radio telescopes use large reflectors to collect and focus power onto the simple feed antennas, such as waveguide horns or dipoles backed by small reflectors, that are connected to receivers. The most common reflector shape is a paraboloid of revolution because it can focus the plane wave from a distant point source onto a single focal point.\n",
      "\n",
      "The reflector shape that can focus plane waves onto a single point must keep all parts of an on-axis plane wavefront in phase at the focal point. Thus the total path lengths to the focus must all be the same, and this requirement is sufficient to determine the shape of the desired reflecting surface. Clearly the surface must be rotationally symmetric about its axis. In any plane containing the axis, the surface looks like the curve below. \n",
      "\n",
      "![](http://www.cv.nrao.edu/course/astr534/images/parabola.svg)\n",
      "\n",
      "A plane containing the axis of a paraboloidal reflector with focal length $f$. Plane wave fronts from a distant point source are shown as dotted lines perpendicular to the $z$ axis. From a wavefront at height $h$ above the vertex, the ray path (dashed line) lengths at all radial offsets $r$ down to the reflector and up to the focal point at $z = f$ must be the same. \n",
      "\n",
      "The requirement of constant path length can be written by equating the on-axis path length $(f + h)$ from any height $h$ to the reflector and then back to the focus at height $f$ with the off-axis path length: \n",
      "$$(f + h) = \\sqrt{r^2 + (f - z)^2} +(h - z)~.$$ We need to extract the reflector height $z$ as a function of radius $r$: \n",
      "$$ \\sqrt{r^2 + (f -z)^2} +h - z = f + h$$ $$ r^2 + f^2 + z^2 - 2fz = f^2 + z^2 + 2fz $$ The result is $$\\bbox[border:3px blue solid,7pt]{z = {r^2 \\over 4 f}}\\rlap{\\quad \\rm {(3B1)}}$$ \n",
      "This is the equation of a paraboloid with focal length $f$. The ratio of the focal length $f$ to the diameter $D$ of the reflector is called the $f/D$ ratio or focal ratio. In principle it is a free parameter for the telescope designer. In practice it is constrained. If $f/D$ is too high, the support structure needed to hold the feed or subreflector at the focus becomes unwieldy. Thus most large radio telescopes have $f/D \\approx 0.4$, an unusually low focal ratio by optical standards. The drawback of a low $f/D$ is a small field of view. The focal ellipsoid is the volume around the exact focal point that remains in reasonably good focus. Only a small number (about seven) feeds can fit inside the focal ellipsoid of an $f/D \\approx 0.4$ paraboloid. Large arrays of feeds or imaging cameras require larger $f/D$ ratios, obtained either by flattening the paraboloid or by using magnifying subreflectors to increase the effective focal length. \n",
      "\n",
      "Consequently, the primary mirrors of most radio telescopes are circular paraboloids or sections thereof. Their advantages are: \n",
      "1. The effective collecting area $A_{\\rm e}$ of a reflector antenna can approach its projected geometric area $A = \\pi D^2 / 4$. \n",
      "2. Electrical simplicity (compared with a phased array of dipoles, for example). \n",
      "3. A single reflector works over a wide range of frequencies. Changing frequencies only requires changing the feed antenna and receiver located at the focal point, not building a whole new radio telescope. "
     ]
    },
    {
     "cell_type": "code",
     "collapsed": false,
     "input": [
      "D = 12.  #diameter of the KAT-7 dish\n",
      "r = arange(-D/2,D/2,D/100)\n",
      "f_D = 0.38 # kat-7 f/D\n",
      "f = f_D * D\n",
      "z = r**2/(4*f)\n",
      "plot(r,z)\n",
      "scatter(0,f)\n",
      "xlim(-12,12)\n",
      "ylim(-0.5,12)\n",
      "grid()"
     ],
     "language": "python",
     "metadata": {},
     "outputs": [
      {
       "metadata": {},
       "output_type": "display_data",
       "png": "[encoded data removed]",
       "text": [
        "<matplotlib.figure.Figure at 0x7fd781cf0ed0>"
       ]
      }
     ],
     "prompt_number": 11
    },
    {
     "cell_type": "heading",
     "level": 2,
     "metadata": {},
     "source": [
      "The Far-field Distance "
     ]
    },
    {
     "cell_type": "markdown",
     "metadata": {},
     "source": [
      "How far away must a point source be for the received waves to satisfy our assumption that they are nearly planar? The answer depends on both the wavelength $\\lambda$ and the reflector diameter $D$. Consider the spherical wave emitted by a point source a finite distance $R$ from the reflector. \n",
      "\n",
      "![](http://www.cv.nrao.edu/course/astr534/images/farfld.svg)\n",
      "\n",
      "The spherical wave emitted by a point source at distance $R$ deviates from a plane by $\\Delta$ at the edge of an aperture whose size is $D$. \n",
      "\n",
      "\n",
      "The maximum departure $\\Delta$ from a plane wave occurs at the edge of the reflector. The \n",
      "far-field distance $R_{\\rm ff}$ is somewhat arbitrarily defined by requiring that $\\Delta < \\lambda /16$. Using the Pythagorean theorem, at the aperture edge we get $$R^2 = (R - \\Delta)^2 + \\biggl({D \\over 2}\\biggr)^2~.$$ Thus $$R = {\\Delta \\over 2} + {D^2 \\over 8 \\Delta}~.$$ Since $\\Delta \\ll D$, $\\Delta / 2 \\ll D^2 /(8 \\Delta)$ and $$R \\approx {D^2 \\over 8 \\Delta}~.$$ For $\\Delta = \\lambda/16$, \n",
      "$$\\bbox[border:3px blue solid,7pt]{R_{\\rm ff} \\approx {2D^2 \\over \\lambda}}\\rlap{\\quad \\rm {(3B2)}}$$ Unless $R > R_{\\rm ff}$, the path-length errors will introduce significant phase errors in the waves coming from the off-axis portions of the reflector, reducing the effective collecting area and degrading the antenna pattern. \n",
      "\n",
      "\n",
      "Example: What is the far-field distance of the Green Bank Telescope ($D = 100$ m) observing at $\\lambda = 1$ cm? \n",
      "$$R_{\\rm ff} = {2 (100\\,{\\rm m})^2 \\over 1\\,{\\rm cm}} = {2 \\times 10^4\\,{\\rm m}^2 \\over 0.01\\,{\\rm m}} = 2 \\times 10^6\\,{\\rm m} = 2000\\,{\\rm km}$$ \n",
      "\n",
      "Such a large far-field distance makes ground-based measurements of the GBT antenna pattern impractical. To measure the shape of the GBT reflector surface using radio holography, we can observe a geostationary satellite having an orbital altitude $R > 2000$ km. Similarly, to determine the transmitting power pattern for a large radar antenna such as the $D = 305$ m Arecibo reflector, we can passively observe a celestial point source in the far field and use the reciprocity theorem to equate the transmitting and receiving patterns. "
     ]
    },
    {
     "cell_type": "heading",
     "level": 2,
     "metadata": {},
     "source": [
      " Patterns of Aperture Antennas "
     ]
    },
    {
     "cell_type": "markdown",
     "metadata": {},
     "source": [
      "In optics, the term aperture refers to the opening through which all rays pass. For example, the aperture of a paraboloidal reflector antenna would be the plane circle, normal to the rays from a distant point source, that just covers the paraboloid. The phase of the plane wave from a distant point source would be constant across the aperture plane when the aperture is perpendicular to the line-of-sight. \n",
      "\n",
      "![](http://www.cv.nrao.edu/course/astr534/images/aperture.svg)\n",
      "\n",
      "The aperture plane associated with a paraboloidal dish of diameter $D$. \n",
      "Another example of an aperture is the mouth of a waveguide horn antenna. \n",
      "\n",
      "<img alt=\"Ewen HI horn at Harvard\"\n",
      "src=\"http://www.cv.nrao.edu/course/astr534/images/Ewenhornaperture.jpg\" style=\"width: 600px;\">\n",
      "\n",
      "\"Doc\" Ewen looking into the rectangular aperture of the horn antenna used to discover the $\\lambda = 21$ cm line of neutral hydrogen. \n",
      "How can we calculate the beam pattern, or power gain as a function of direction, of an aperture antenna? For simplicity, we first consider a one-dimensional aperture of width $D$ and calculate the electric field pattern at a distant ($R \\gg R_{\\rm ff}$) point. \n",
      "\n",
      "![](http://www.cv.nrao.edu/course/astr534/images/linapert.svg)\n",
      "\n",
      "Coordinate system for a linear aperture extending from $x = -D/2$ to $x = +D/2$. \n",
      "Treating this as a transmitting antenna, we imagine that the feed illuminates the aperture with a sine wave of fixed frequency $\\nu = \\omega / (2 \\pi)$ and electric field strength $g(x)$ that varies across the aperture. The illumination induces currents in the reflector. The current densities $J$ will vary with both position and time: \n",
      "$$J \\propto g(x) \\exp(-i\\omega t)~.$$ We don't need to worry about the constant of proportionality yet; it can be calculated later from energy conservation. Although we are interested only in electromagnetic radiation, we use \n",
      "Huygen's principle that applies to waves of any type, sound waves for example. It asserts that the aperture can be treated as a collection of small elements which act individually as small antennas. The electric field produced by the whole aperture at large distances is just the vector sum of the elemental electric fields from these small antennas. The field from each element extending from $x$ to $x + dx$ is: \n",
      "$$df \\propto g(x) {\\exp(-i2\\pi r / \\lambda) \\over r} dx~.$$ \n",
      "At large distances compared with the aperture size ($r \\gg D$) we can make the \n",
      "Fraunhofer approximation $$r \\approx R + x \\sin\\theta = R + x l~,$$ where $$\\bbox[border:3px blue solid,7pt]{l \\equiv \\sin\\theta}\\rlap{\\quad \\rm {(3B3)}}$$  At large distances, the quantity $$ {1 \\over r} \\approx {1 \\over R}$$ is nearly constant across the aperture and can be absorbed in the constant of proportionality. However, the periodic term cannot be ignored at any distance: $$df \\propto g(x) \\exp(-i 2 \\pi R / \\lambda) \\exp( -i 2 \\pi x l / \\lambda) d x$$ Note that $\\exp(-i 2 \\pi R / \\lambda)$ is a constant since $R$ is fixed, so this factor can be absorbed by the constant of proportionality. If we define \n",
      "$$\\bbox[border:3px blue solid,7pt]{u \\equiv {x \\over \\lambda}}\\rlap{\\quad \\rm {(3B4)}}$$  to express position along the aperture in units of wavelength, then $$\\bbox[border:3px blue solid,7pt]{f(l) = \\int_{\\rm aperture} g(u) e^{-i 2 \\pi l u} du}\\rlap{\\quad \\rm {(3B5)}}$$ In words, this very important equation says: \n",
      "\n",
      "\n",
      "  **_In the far field, the electric-field pattern of an aperture antenna is the Fourier transform of the electric field illuminating the aperture._** \n",
      "  \n",
      "\n",
      "\n",
      "Example: What is the electric-field pattern of a uniformly illuminated one-dimensional aperture of width $D$ at wavelength $\\lambda$? Uniform illumination means that the strength of the illumination is independent of position across the aperture: $$g(u) = {\\rm ~constant}, \\qquad {-D \\over 2 \\lambda} < u < {+D \\over 2 \\lambda}$$ We will solve this problem in two steps, first finding the far-field pattern of a unit aperture ($D = \\lambda$) and then using the similarity theorem (below) for Fourier transforms to scale the first result to our particular aperture. \n",
      "First we calculate the Fourier transform of the unit rectangle function $$ \\Pi (u) \\equiv 1\\,, \\qquad -1/2 < u < +1/2~,$$ $$ \\Pi (u) \\equiv 0 {\\rm ~otherwise}\\qquad\\qquad\\qquad$$ Notice that the function symbol (upper-case pi) is similar in shape to the function graph, making it easy to remember. \n",
      "\n",
      "![](http://www.cv.nrao.edu/course/astr534/images/urect.svg)\n",
      "\n",
      "The symbol $\\Pi$ is shaped like the unit rectangle function it represents. \n",
      "The Fourier transform of $\\Pi(u)$ is defined as \n",
      "$$F(l) = \\int_{-\\infty}^{\\infty} \\Pi(u) e^{-i 2 \\pi l u} du$$ Thus $$F(l) = \\int_{-1/2}^{+1/2} e^{-i 2 \\pi l u} du$$ $$F(l) = {e^{-i 2 \\pi l u} \\over -i 2 \\pi l}\\vert_{-1/2}^{+1/2} = {e^{-i \\pi l} - e^{i \\pi l} \\over -i 2 \\pi l}$$ Recall the mathematical identities \n",
      "$$e^{i \\pi l} = \\cos(\\pi l) + i \\sin(\\pi l)$$ \n",
      "$$e^{- i \\pi l} = \\cos(\\pi l) - i \\sin(\\pi l)$$ so \n",
      "$$e^{i \\pi l} - e^{-i \\pi l} = 2 i \\sin(\\pi l)~.$$ \n",
      "Substituting into the equation for $F(l)$ gives \n",
      "$$F(l) = {-2 i \\sin(\\pi l) \\over -2 i \\pi l} = {\\sin(\\pi l) \\over (\\pi l)} \\equiv {\\rm sinc}(l)$$ The useful sinc function \n",
      "\n",
      "\n",
      "The function ${\\rm sinc}(l) \\equiv \\sin(\\pi l) / (\\pi l)$ is the Fourier transform of the unit rectangle function and is the electric-field pattern of a uniformly illuminated unit aperture. \n",
      "\n",
      "![](http://www.cv.nrao.edu/course/astr534/images/sinc.svg)\n",
      "\n",
      "Next we use the powerful similarity theorem) for Fourier transforms: \n",
      " If $f(l)$ is the Fourier transform of $g(u)$, then \n",
      "$${ 1 \\over \\vert a \\vert} f\\biggl({l \\over a}\\biggr)$$ is the Fourier transform of $g(au)$, where $a \\neq 0$ is a constant. \n",
      "\n",
      "The similarity theorem states that making a function $g$ wider or narrower makes its Fourier transform $f$ narrower and taller or wider and shorter, respectively, always conserving the area under the transform. For our application, it implies that the beamwidth of an aperture antenna is inversely proportional to the aperture size in wavelengths and the voltage gain is directly proportional to the aperture size in wavelengths. \n",
      "Thus for our uniformly illuminated one-dimensional aperture of width $D$ operating at wavelength $\\lambda$, the electric field pattern is \n",
      "$$f(l) \\propto \\int_{u = -D/(2\\lambda)}^{+D/(2\\lambda)} e^{-i 2 \\pi l u} d u$$ $$f(l) \\propto {\\sin(\\pi l D / \\lambda) \\over (\\pi l D / \\lambda)} \\propto {\\rm sinc}(l D / \\lambda)$$ \n",
      " For a large ($D/\\lambda \\gg 1$) aperture, the relevant angles $\\theta$ are small ($\\theta \\ll 1$ radian) so $l = \\sin\\theta \\approx \\theta$, the angular offset from the center of the main beam. \n",
      "Since the radiated power per unit area is proportional to the square of the electric field strength, the power pattern $P(l)$ is \n",
      "$$P(l) \\propto {\\rm sinc}^2 \\biggl( {l D \\over \\lambda} \\biggr)$$ If $\\theta \\ll 1$ radian, \n",
      "$$\\bbox[border:3px blue solid,7pt]{P(\\theta) \\propto {\\rm sinc}^2 \\biggl( {\\theta D \\over \\lambda} \\biggr)}\\rlap{\\quad \\rm {(3B6)}}$$ \n",
      "\n",
      "![](http://www.cv.nrao.edu/course/astr534/images/sincsq.svg)\n",
      "\n",
      "The power pattern of a uniformly illuminated unit ($D / \\lambda = 1$) aperture. For large ($D \\gg \\lambda$) apertures, the zeros at $ l = \\pm 1, \\pm 2, \\dots$ appear at the angles $\\theta = \\pm \\lambda / D, \\pm 2 \\lambda / D, \\dots$. \n",
      "The central peak of the power pattern between the first minima is called the main beam. The smaller secondary peaks are called sidelobes. What is the angular width of the main beam? Radio astronomers conventionally specify the angle between the half-power points, calling it the half-power beamwidth (HPBW) or the full width between half-maximum points (FWHM). For our example of a one-dimensional uniformly illuminated aperture, the beamwidth $\\theta_{\\rm HPBW}$ satisfies \n",
      "$$P(\\theta_{\\rm HPBW} / 2) = {1 \\over 2} = {\\rm sinc}^2 \\biggl( { \\theta_{\\rm HPBW} D \\over 2 \\lambda} \\biggr)$$ $$ 0.443 \\approx {\\theta_{\\rm HPBW} D \\over 2 \\lambda}$$ $$\\bbox[border:3px blue solid,7pt]{\\theta_{\\rm HPBW} \\approx 0.89 {\\lambda \\over D}}\\rlap{\\quad \\rm {(3B7)}}$$  The similarity theorem implies the general scaling relation \n",
      "$$\\theta_{\\rm HPBW} \\propto {\\lambda \\over D}~.$$ \n",
      "The constant of proportionality varies slightly with the illumination taper. \n",
      "The weak reciprocity theorem says that this analysis of the transmitting power pattern also yields the receiving power pattern, or the variation of $A_{\\rm e}$ with orientation, of an aperture antenna. In receiving terms, the power pattern represents the point-source response. For a uniformly illuminated aperture, scanning a radio telescope beam in angle $\\theta$ across a point source will cause the antenna temperature to vary as sinc$^2(\\theta)$, and the half-power response width will equal the transmitting HPBW. The receiving HPBW is sometimes called the resolving power of a telescope because two equal point sources separated by the HPBW can just be resolved by the Rayleigh criterion that the peak response to one source coincides with the first minimum response to the other, so the total response has a slight minimum midway between the point sources. "
     ]
    },
    {
     "cell_type": "code",
     "collapsed": false,
     "input": [
      "theta_d = arange(-5,5,0.1)\n",
      "theta = radians(arange(-5,5,0.1))\n",
      "D = 12\n",
      "lam = 0.21\n",
      "P = sinc(theta*D/lam)**2\n",
      "plot(theta_d,P,'.-')\n",
      "HPBW = degrees(0.89*(lam/D))\n",
      "print HPBW"
     ],
     "language": "python",
     "metadata": {},
     "outputs": [
      {
       "output_type": "stream",
       "stream": "stdout",
       "text": [
        "0.892381765916\n"
       ]
      },
      {
       "metadata": {},
       "output_type": "display_data",
       "png": "[encoded data removed]",
       "text": [
        "<matplotlib.figure.Figure at 0x7fd781d61710>"
       ]
      }
     ],
     "prompt_number": 12
    },
    {
     "cell_type": "code",
     "collapsed": false,
     "input": [
      "step = 0.1 # degrees\n",
      "sep = 3 # degrees\n",
      "m = sep/step\n",
      "N = 100\n",
      "theta_d = arange(-(N/2)*step,(N/2)*step,step)\n",
      "sources = zeros(N)\n",
      "sources[int(N/2-m/2)] = 1\n",
      "sources[int(N/2+m/2)] = 1\n",
      "scan = convolve(P,sources,'same')\n",
      "plot(theta_d,scan,'.-')"
     ],
     "language": "python",
     "metadata": {},
     "outputs": [
      {
       "metadata": {},
       "output_type": "pyout",
       "prompt_number": 15,
       "text": [
        "[<matplotlib.lines.Line2D at 0x7fd781b35750>]"
       ]
      },
      {
       "metadata": {},
       "output_type": "display_data",
       "png": "[encoded data removed]",
       "text": [
        "<matplotlib.figure.Figure at 0x7fd781c8b090>"
       ]
      }
     ],
     "prompt_number": 15
    }
   ],
   "metadata": {}
  }
 ]
}